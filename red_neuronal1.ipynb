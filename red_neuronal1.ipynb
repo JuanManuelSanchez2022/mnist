{
 "cells": [
  {
   "cell_type": "markdown",
   "metadata": {
    "id": "WQmjgNXvAB5G"
   },
   "source": [
    "##Red Neuronal (2 capas) desde cero"
   ]
  },
  {
   "cell_type": "markdown",
   "metadata": {
    "id": "ic3Rlu8KATNd"
   },
   "source": [
    "##Importar librerias"
   ]
  },
  {
   "cell_type": "code",
   "execution_count": null,
   "metadata": {
    "id": "AF1FfGnQAOdP"
   },
   "outputs": [],
   "source": [
    "import numpy as np\n",
    "import matplotlib.pyplot as plt\n",
    "%matplotlib inline\n"
   ]
  },
  {
   "cell_type": "markdown",
   "metadata": {
    "id": "_wAcH6LLAkUA"
   },
   "source": [
    "##Importar Mnist"
   ]
  },
  {
   "cell_type": "code",
   "execution_count": null,
   "metadata": {
    "colab": {
     "base_uri": "https://localhost:8080/"
    },
    "id": "TCAZxWAWKERQ",
    "outputId": "a1f12b72-327e-416f-d2f7-c15cb2fb39dc"
   },
   "outputs": [],
   "source": [
    "!pip install mnist"
   ]
  },
  {
   "cell_type": "code",
   "execution_count": null,
   "metadata": {
    "id": "bqIqGUPvLOC3"
   },
   "outputs": [],
   "source": [
    "import mnist"
   ]
  },
  {
   "cell_type": "code",
   "execution_count": null,
   "metadata": {
    "colab": {
     "base_uri": "https://localhost:8080/"
    },
    "id": "cX74UzOYP1-m",
    "outputId": "c8f3d3e2-5a70-4d52-d608-6c9148caba33"
   },
   "outputs": [],
   "source": [
    "!pip install kora -q\n",
    "from kora import drive\n",
    "drive.link_nbs()"
   ]
  },
  {
   "cell_type": "code",
   "execution_count": null,
   "metadata": {
    "colab": {
     "base_uri": "https://localhost:8080/"
    },
    "id": "gUHJFIeJadMF",
    "outputId": "65eededd-5689-4450-b6d3-a686c7ab9144"
   },
   "outputs": [],
   "source": [
    "from google.colab import drive\n",
    "drive.mount('/content/drive')"
   ]
  },
  {
   "cell_type": "code",
   "execution_count": null,
   "metadata": {
    "colab": {
     "base_uri": "https://localhost:8080/",
     "height": 681
    },
    "id": "WLQwuLnFL_bb",
    "outputId": "ad3065a0-2d72-40c8-a3fa-3c1c4dbc6ac8"
   },
   "outputs": [],
   "source": [
    "from google.colab import files\n",
    "src = list(files.upload().values())[0]\n",
    "open('Get_Images.py','wb').write(src)\n",
    "import Get_Images"
   ]
  },
  {
   "cell_type": "code",
   "execution_count": null,
   "metadata": {
    "id": "jmw_ZNruAhlF"
   },
   "outputs": [],
   "source": [
    "# Importacion de funcion get_images desde archivo Get_Images.py\n",
    "from Get_Images import get_images"
   ]
  },
  {
   "cell_type": "code",
   "execution_count": null,
   "metadata": {
    "id": "p41aFpNVAuBT"
   },
   "outputs": [],
   "source": [
    "mnist.path = '/content/drive/MyDrive/Deep Learning/mnist_raw'"
   ]
  },
  {
   "cell_type": "code",
   "execution_count": null,
   "metadata": {
    "colab": {
     "base_uri": "https://localhost:8080/"
    },
    "id": "awgPUfVgm5Dz",
    "outputId": "435e7444-edfa-41a1-f7be-2a6b93275fb4"
   },
   "outputs": [],
   "source": [
    "print(mnist.path)"
   ]
  },
  {
   "cell_type": "code",
   "execution_count": null,
   "metadata": {
    "id": "tSY0cikczKdh"
   },
   "outputs": [],
   "source": [
    "# Importa las variables desde el archivo Get_images.py\n",
    "from Get_Images import x_train, y_train, x_test, y_test\n",
    "\n",
    "# Crea las nuevas variables\n",
    "x_train_num = x_train\n",
    "y_train_num = y_train\n",
    "x_test_num = x_test\n",
    "y_test_num = y_test"
   ]
  },
  {
   "cell_type": "code",
   "execution_count": null,
   "metadata": {
    "colab": {
     "base_uri": "https://localhost:8080/"
    },
    "id": "8KXqSqFVy1Ns",
    "outputId": "eefd959d-da7f-4516-ffda-8f5f5fefb3a7"
   },
   "outputs": [],
   "source": [
    "# Creacion de variables y resize de imagenes\n",
    "x_train = x_train_num[:50000].reshape(50000, -1).astype(float)/255\n",
    "y_train = y_train_num[:50000].reshape(50000, 1)\n",
    "\n",
    "x_val = x_train_num[50000:].reshape(10000, -1).astype(float)/255\n",
    "y_val = y_train_num[50000:].reshape(10000, 1)\n",
    "\n",
    "x_test = x_test_num.copy().reshape(10000, -1).astype(float)/255\n",
    "y_test = y_test_num.copy().reshape(10000, 1)"
   ]
  },
  {
   "cell_type": "code",
   "execution_count": null,
   "metadata": {
    "colab": {
     "base_uri": "https://localhost:8080/"
    },
    "id": "yoFXdNV-a_8l",
    "outputId": "506b3265-d412-491f-a7d7-d0c20bfc3ce8"
   },
   "outputs": [],
   "source": [
    "print(x_train.shape)\n",
    "print(y_train.shape)\n",
    "\n",
    "print(x_val.shape)\n",
    "print(y_val.shape)\n",
    "\n",
    "print(x_test.shape)\n",
    "print(y_test.shape)"
   ]
  },
  {
   "cell_type": "markdown",
   "metadata": {
    "id": "u6f2jv5k0AZc"
   },
   "source": [
    "##Graficar algunas imagenes"
   ]
  },
  {
   "cell_type": "code",
   "execution_count": null,
   "metadata": {
    "id": "-fmq5mvc0DZJ"
   },
   "outputs": [],
   "source": [
    "def plot_number(image):\n",
    "  plt.imshow(image.squeeze(), cmap=plt.get_cmap('gray'))\n",
    "  plt.axis('off')\n",
    "  plt.show()"
   ]
  },
  {
   "cell_type": "code",
   "execution_count": null,
   "metadata": {
    "colab": {
     "base_uri": "https://localhost:8080/",
     "height": 424
    },
    "id": "h616TrrH60I9",
    "outputId": "b79ee743-d0c0-4b99-dcf3-438b6e3ef303"
   },
   "outputs": [],
   "source": [
    "                            ##Busqueda de nro random\n",
    "rnd_idx = np.random.randint(len(y_test))\n",
    "                            ##Comentario\n",
    "print(f'La imagen muestreada representa un: {y_test[rnd_idx]}')\n",
    "                            ##Importacion de imagen\n",
    "plot_number(x_test_num[rnd_idx])"
   ]
  },
  {
   "cell_type": "markdown",
   "metadata": {
    "id": "YwflJSaJkcVR"
   },
   "source": []
  },
  {
   "cell_type": "markdown",
   "metadata": {
    "id": "fsB3yQ9UkdSX"
   },
   "source": [
    "##Red Neuronal"
   ]
  },
  {
   "cell_type": "markdown",
   "metadata": {
    "id": "NhTe1TSklB94"
   },
   "source": [
    "##Dos capas 200-10"
   ]
  },
  {
   "cell_type": "markdown",
   "metadata": {
    "id": "ZNZGV_RplO-o"
   },
   "source": [
    "##Crear mini batches"
   ]
  },
  {
   "cell_type": "code",
   "execution_count": null,
   "metadata": {
    "colab": {
     "base_uri": "https://localhost:8080/"
    },
    "id": "ueg8ET64nScY",
    "outputId": "3e3b0fab-1fe8-4fe6-f16c-bfa51e1973f2"
   },
   "outputs": [],
   "source": [
    "x_train.shape[0]"
   ]
  },
  {
   "cell_type": "code",
   "execution_count": null,
   "metadata": {
    "id": "ZSzTb89ZlNB_"
   },
   "outputs": [],
   "source": [
    "                             ##Creacion de minibatches##\n",
    "\n",
    "def create_minibatches(mb_size, x, y, shuffle = True):\n",
    "\n",
    "    # x  #muestras, 784\n",
    "    # y #muestras, 1\n",
    "\n",
    "    assert x.shape[0] == y.shape[0], 'Error en cantidad de muestras'\n",
    "    total_data = x.shape[0]\n",
    "    if shuffle:\n",
    "        idxs = np.arange(total_data)\n",
    "        np.random.shuffle(idxs)\n",
    "        x = x[idxs]\n",
    "        y = y[idxs]\n",
    "\n",
    "    return ((x[i:i+mb_size], y[i:i+mb_size]) for i in range(0, total_data, mb_size))"
   ]
  },
  {
   "cell_type": "markdown",
   "metadata": {
    "id": "5vZEovDrnq_W"
   },
   "source": [
    "##Init parameters"
   ]
  },
  {
   "cell_type": "code",
   "execution_count": null,
   "metadata": {
    "id": "3E_UFU8Wndop"
   },
   "outputs": [],
   "source": [
    "def init_parameters(input_size, neurons):\n",
    "\n",
    "    # input_size -> elementos de entrada, 784\n",
    "    # neurons -> list [200, 10] con cantidad de neuronas en cada capa\n",
    "\n",
    "    W1 = np.random.randn(neurons[0], input_size) * 0.001\n",
    "    b1 = np.zeros((neurons[0], 1))\n",
    "\n",
    "    W2 = np.random.randn(neurons[1], neurons[0]) * 0.001\n",
    "    b2 = np.zeros((neurons[1], 1))\n",
    "\n",
    "    return {'W1': W1, 'b1':b1, 'W2':W2, 'b2':b2}\n"
   ]
  },
  {
   "cell_type": "code",
   "execution_count": null,
   "metadata": {
    "colab": {
     "base_uri": "https://localhost:8080/"
    },
    "id": "C4h7t90yqMGc",
    "outputId": "4e428cb0-3cef-4b44-c822-2383eba911dc"
   },
   "outputs": [],
   "source": [
    "#Prueba de parametros\n",
    "parameters = init_parameters(28*28, [200, 10])\n",
    "print(parameters['W1'].shape)\n",
    "print(parameters['W2'].shape)\n",
    "print(parameters['b2'].shape)"
   ]
  },
  {
   "cell_type": "code",
   "execution_count": null,
   "metadata": {
    "id": "INkPIKarqhZX"
   },
   "outputs": [],
   "source": [
    "def relu(x):\n",
    "  return np.maximum(0, x)"
   ]
  },
  {
   "cell_type": "code",
   "execution_count": null,
   "metadata": {
    "id": "ljyaJFXtsC5G"
   },
   "outputs": [],
   "source": [
    "def linear_pass(x, parameters, activation_fcn):\n",
    "\n",
    "    #¤ x tiene la forma (#pixeles, num samples)\n",
    "\n",
    "    z1 = parameters['W1'] @ x + parameters['b1']\n",
    "    a1 = activation_fcn(z1) # devuel fcn. de activa.\n",
    "    z2 = parameters['W2'] @ a1 + parameters['b2']\n",
    "\n",
    "    return z2, z1, a1"
   ]
  },
  {
   "cell_type": "code",
   "execution_count": null,
   "metadata": {
    "id": "ljyaJFXtsC5G"
   },
   "outputs": [],
   "source": [
    "scores, z1, a1 = linear_pass(x_train[:64].T, parameters, relu)"
   ]
  },
  {
   "cell_type": "code",
   "execution_count": null,
   "metadata": {
    "id": "ljyaJFXtsC5G"
   },
   "outputs": [],
   "source": [
    "x_train[:64].shape"
   ]
  },
  {
   "cell_type": "code",
   "execution_count": null,
   "metadata": {
    "colab": {
     "base_uri": "https://localhost:8080/"
    },
    "id": "9KyF2ySyk-N2",
    "outputId": "e8252c86-44be-4106-f663-71812301f560"
   },
   "outputs": [],
   "source": [
    "scores.shape"
   ]
  },
  {
   "cell_type": "code",
   "execution_count": null,
   "metadata": {
    "id": "Xg24Pcp7CL3n"
   },
   "outputs": [],
   "source": [
    "def softmax(x):\n",
    "    exp_scores = np.exp(x)\n",
    "    sum_exp_scores = np.sum(exp_scores, axis=0)\n",
    "    probs = exp_scores/sum_exp_scores\n",
    "    return probs"
   ]
  },
  {
   "cell_type": "code",
   "execution_count": null,
   "metadata": {
    "id": "JIm9_y7wDCbh"
   },
   "outputs": [],
   "source": [
    "def x_entropy(scores, y, batch_size=64):\n",
    "    probs = softmax(scores)\n",
    "    y_hat = probs[y.squeeze(), np.arange(batch_size)]\n",
    "    cost = np.sum(-np.log(y_hat)) / batch_size\n",
    "\n",
    "    return probs, cost"
   ]
  },
  {
   "cell_type": "code",
   "execution_count": null,
   "metadata": {
    "id": "GFjrOG2NEBBU"
   },
   "outputs": [],
   "source": [
    "def backward(probs, x, y, z1, a1, scores, parameters, batch_size=64):\n",
    "    grads = {}\n",
    "    probs[y.squeeze(), np.arange(batch_size)] -= 1 # y-hat - y\n",
    "    dz2 = probs.copy()\n",
    "\n",
    "    dW2 = dz2 @ a1.T / batch_size\n",
    "    db2 = np.sum(dz2, axis =1, keepdims=True) / batch_size\n",
    "    da1 = parameters['W2'].T @ dz2\n",
    "\n",
    "    dz1 = da1.copy()\n",
    "    dz1[z1 <= 0 ] =0\n",
    "\n",
    "    dW1 = dz1 @ x\n",
    "    db1 = np.sum(dz1, axis=1, keepdims=True)\n",
    "\n",
    "    assert parameters['W1'].shape == dW1.shape, 'W1 no igual forma'\n",
    "    assert parameters['W2'].shape == dW2.shape, 'W2 no igual forma'\n",
    "    assert parameters['b1'].shape == db1.shape, 'b1 no igual forma'\n",
    "    assert parameters['b2'].shape == db2.shape, 'b2 no igual forma'\n",
    "\n",
    "    grads = {'w1':dW1,  'b1':db1, 'W2':dW2, 'b2':db2}\n",
    "\n",
    "    return grads"
   ]
  },
  {
   "cell_type": "code",
   "execution_count": null,
   "metadata": {
    "id": "p7kk2vFqHlqS"
   },
   "outputs": [],
   "source": [
    "y_hat, cost = x_entropy(scores, y_train[:64])"
   ]
  },
  {
   "cell_type": "code",
   "execution_count": null,
   "metadata": {
    "colab": {
     "base_uri": "https://localhost:8080/"
    },
    "id": "Kn8kplP6JUZY",
    "outputId": "76473d13-10ae-4940-e501-03e0b04facf5"
   },
   "outputs": [],
   "source": [
    "y_hat.shape"
   ]
  },
  {
   "cell_type": "code",
   "execution_count": null,
   "metadata": {
    "colab": {
     "base_uri": "https://localhost:8080/"
    },
    "id": "8TBXJuFPIF7-",
    "outputId": "601df6db-6e4d-4935-d3eb-58338888c32c"
   },
   "outputs": [],
   "source": [
    "print(cost)"
   ]
  },
  {
   "cell_type": "code",
   "execution_count": null,
   "metadata": {
    "id": "Yfi3yPP0JYY9"
   },
   "outputs": [],
   "source": [
    "grads = backward(y_hat, x_train[:64], y_train[:64],z1, a1, scores, parameters)"
   ]
  },
  {
   "cell_type": "code",
   "execution_count": null,
   "metadata": {
    "id": "bw6DjSQ5PHET"
   },
   "outputs": [],
   "source": [
    "def accuracy(x_data, y_data, mb_size=64):\n",
    "    correct = 0\n",
    "    total = 0\n",
    "    for i, (x, y) in enumerate(create_minibatches(mb_size, x_data, y_data)):\n",
    "        scores2, z1, a1 = linear_pass(x.T, parameters, relu)\n",
    "        y_hat, cost = x_entropy(scores2, y, batch_size=len(x))\n",
    "\n",
    "        correct += np.sum(np.argmax(y_hat, axis=0) == y.squeeze())\n",
    "        total += y_hat.shape[1]\n",
    "    return correct/total"
   ]
  },
  {
   "cell_type": "code",
   "execution_count": null,
   "metadata": {
    "id": "tYvKXIb-PLmH"
   },
   "outputs": [],
   "source": [
    "def train(epochs, parameters, mb_size=64, learning_rate = 1e-3):\n",
    "    for epoch in range(epochs):\n",
    "        for i, (x, y) in enumerate(create_minibatches(mb_size, x_train, y_train)):\n",
    "            scores2, z1, a1 = linear_pass(x.T, parameters=parameters, activation_fcn=relu)\n",
    "            y_hat, cost = x_entropy(scores2, y, batch_size=len(x))\n",
    "            grads = backward(y_hat, x, y, z1, a1, scores2, parameters, batch_size=len(x))\n",
    "\n",
    "            parameters['W1'] = parameters['W1'] - learning_rate*grads['w1']\n",
    "            parameters['b1'] = parameters['b1'] - learning_rate*grads['b1']\n",
    "            parameters['b2'] = parameters['b2'] - learning_rate*grads['b2']\n",
    "            parameters['W2'] = parameters['W2'] - learning_rate*grads['W2']\n",
    "\n",
    "        print(f'costo es: {cost}, y accuracy: {accuracy(x_val, y_val, mb_size)}')\n",
    "    return parameters"
   ]
  },
  {
   "cell_type": "code",
   "execution_count": null,
   "metadata": {
    "colab": {
     "base_uri": "https://localhost:8080/"
    },
    "id": "yVYO2ne4bX9l",
    "outputId": "eb82e759-067c-4d31-c6cf-6b7c9576cff3"
   },
   "outputs": [],
   "source": [
    "print(type(scores))"
   ]
  },
  {
   "cell_type": "code",
   "execution_count": null,
   "metadata": {
    "colab": {
     "base_uri": "https://localhost:8080/",
     "height": 345
    },
    "id": "DSbGwnT4PNcR",
    "outputId": "57fb0646-53ae-4672-8378-99acca8b77b9"
   },
   "outputs": [],
   "source": [
    "mb_size = 512\n",
    "learning_rate = 1e-2\n",
    "epochs = 20\n",
    "parameters = train(epochs=epochs, parameters=parameters, mb_size=mb_size, learning_rate=learning_rate)"
   ]
  },
  {
   "cell_type": "code",
   "execution_count": null,
   "metadata": {
    "id": "KOv6UdwhPPp4"
   },
   "outputs": [],
   "source": [
    "accuracy(x_train, y_train, mb_size)"
   ]
  },
  {
   "cell_type": "code",
   "execution_count": null,
   "metadata": {
    "id": "adVowSYMT3vz"
   },
   "outputs": [],
   "source": []
  },
  {
   "cell_type": "code",
   "execution_count": null,
   "metadata": {
    "id": "x2QcGF-0PXoa"
   },
   "outputs": [],
   "source": [
    "accuracy(x_test, y_test, mb_size)"
   ]
  },
  {
   "cell_type": "code",
   "execution_count": null,
   "metadata": {
    "id": "SPOKL8E-PZzt"
   },
   "outputs": [],
   "source": [
    "def predict(x):\n",
    "    scores2, _, _ = linear_pass(x, parameters, relu)\n",
    "    return np.argmax(scores2)"
   ]
  },
  {
   "cell_type": "code",
   "execution_count": null,
   "metadata": {
    "id": "cn8fitI9PboE"
   },
   "outputs": [],
   "source": [
    "x_test[0].reshape(-1, 1).shape"
   ]
  },
  {
   "cell_type": "code",
   "execution_count": null,
   "metadata": {
    "id": "HBnwl88sPdSl"
   },
   "outputs": [],
   "source": [
    "idx = np.random.randint(len(y_test))\n",
    "plot_number(x_test_num[idx])\n",
    "pred = predict(x_test[idx].reshape(-1, 1))\n",
    "print(f'el valor predicho es: {pred}')"
   ]
  },
  {
   "cell_type": "code",
   "execution_count": null,
   "metadata": {
    "id": "ve2NvaMrPfH4"
   },
   "outputs": [],
   "source": []
  }
 ],
 "metadata": {
  "colab": {
   "provenance": []
  },
  "kernelspec": {
   "display_name": "Python 3 (ipykernel)",
   "language": "python",
   "name": "python3"
  },
  "language_info": {
   "codemirror_mode": {
    "name": "ipython",
    "version": 3
   },
   "file_extension": ".py",
   "mimetype": "text/x-python",
   "name": "python",
   "nbconvert_exporter": "python",
   "pygments_lexer": "ipython3",
   "version": "3.11.5"
  }
 },
 "nbformat": 4,
 "nbformat_minor": 4
}
