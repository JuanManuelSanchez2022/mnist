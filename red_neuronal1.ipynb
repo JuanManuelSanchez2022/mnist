{
  "nbformat": 4,
  "nbformat_minor": 0,
  "metadata": {
    "colab": {
      "provenance": []
    },
    "kernelspec": {
      "name": "python3",
      "display_name": "Python 3"
    },
    "language_info": {
      "name": "python"
    }
  },
  "cells": [
    {
      "cell_type": "markdown",
      "source": [
        "##Red Neuronal (2 capas) desde cero"
      ],
      "metadata": {
        "id": "WQmjgNXvAB5G"
      }
    },
    {
      "cell_type": "markdown",
      "source": [
        "##Importar librerias"
      ],
      "metadata": {
        "id": "ic3Rlu8KATNd"
      }
    },
    {
      "cell_type": "code",
      "source": [
        "import numpy as np\n",
        "import matplotlib.pyplot as plt\n",
        "%matplotlib inline\n"
      ],
      "metadata": {
        "id": "AF1FfGnQAOdP"
      },
      "execution_count": 47,
      "outputs": []
    },
    {
      "cell_type": "markdown",
      "source": [
        "##Importar Mnist"
      ],
      "metadata": {
        "id": "_wAcH6LLAkUA"
      }
    },
    {
      "cell_type": "code",
      "source": [
        "!pip install mnist"
      ],
      "metadata": {
        "colab": {
          "base_uri": "https://localhost:8080/"
        },
        "id": "TCAZxWAWKERQ",
        "outputId": "301ef1bb-5516-4174-843b-aa7b610a8f97"
      },
      "execution_count": 48,
      "outputs": [
        {
          "output_type": "stream",
          "name": "stdout",
          "text": [
            "Requirement already satisfied: mnist in /usr/local/lib/python3.10/dist-packages (0.2.2)\n",
            "Requirement already satisfied: numpy in /usr/local/lib/python3.10/dist-packages (from mnist) (1.23.5)\n"
          ]
        }
      ]
    },
    {
      "cell_type": "code",
      "source": [
        "import mnist"
      ],
      "metadata": {
        "id": "bqIqGUPvLOC3"
      },
      "execution_count": 49,
      "outputs": []
    },
    {
      "cell_type": "code",
      "source": [
        "!pip install kora -q\n",
        "from kora import drive\n",
        "drive.link_nbs()"
      ],
      "metadata": {
        "id": "cX74UzOYP1-m"
      },
      "execution_count": 50,
      "outputs": []
    },
    {
      "cell_type": "code",
      "source": [
        "from google.colab import drive\n",
        "drive.mount('/content/drive')"
      ],
      "metadata": {
        "colab": {
          "base_uri": "https://localhost:8080/"
        },
        "id": "gUHJFIeJadMF",
        "outputId": "72faee80-12cc-4b50-81aa-61257e2cd1ed"
      },
      "execution_count": 51,
      "outputs": [
        {
          "output_type": "stream",
          "name": "stdout",
          "text": [
            "Drive already mounted at /content/drive; to attempt to forcibly remount, call drive.mount(\"/content/drive\", force_remount=True).\n"
          ]
        }
      ]
    },
    {
      "cell_type": "code",
      "source": [
        "from google.colab import files\n",
        "src = list(files.upload().values())[0]\n",
        "open('Get_Images.py','wb').write(src)\n",
        "import Get_Images"
      ],
      "metadata": {
        "colab": {
          "base_uri": "https://localhost:8080/",
          "height": 73
        },
        "id": "WLQwuLnFL_bb",
        "outputId": "a0c81795-464e-4503-d749-b0648c330cd5"
      },
      "execution_count": 52,
      "outputs": [
        {
          "output_type": "display_data",
          "data": {
            "text/plain": [
              "<IPython.core.display.HTML object>"
            ],
            "text/html": [
              "\n",
              "     <input type=\"file\" id=\"files-367709f8-8ef0-4d7d-bb65-fe44e9f59dc5\" name=\"files[]\" multiple disabled\n",
              "        style=\"border:none\" />\n",
              "     <output id=\"result-367709f8-8ef0-4d7d-bb65-fe44e9f59dc5\">\n",
              "      Upload widget is only available when the cell has been executed in the\n",
              "      current browser session. Please rerun this cell to enable.\n",
              "      </output>\n",
              "      <script>// Copyright 2017 Google LLC\n",
              "//\n",
              "// Licensed under the Apache License, Version 2.0 (the \"License\");\n",
              "// you may not use this file except in compliance with the License.\n",
              "// You may obtain a copy of the License at\n",
              "//\n",
              "//      http://www.apache.org/licenses/LICENSE-2.0\n",
              "//\n",
              "// Unless required by applicable law or agreed to in writing, software\n",
              "// distributed under the License is distributed on an \"AS IS\" BASIS,\n",
              "// WITHOUT WARRANTIES OR CONDITIONS OF ANY KIND, either express or implied.\n",
              "// See the License for the specific language governing permissions and\n",
              "// limitations under the License.\n",
              "\n",
              "/**\n",
              " * @fileoverview Helpers for google.colab Python module.\n",
              " */\n",
              "(function(scope) {\n",
              "function span(text, styleAttributes = {}) {\n",
              "  const element = document.createElement('span');\n",
              "  element.textContent = text;\n",
              "  for (const key of Object.keys(styleAttributes)) {\n",
              "    element.style[key] = styleAttributes[key];\n",
              "  }\n",
              "  return element;\n",
              "}\n",
              "\n",
              "// Max number of bytes which will be uploaded at a time.\n",
              "const MAX_PAYLOAD_SIZE = 100 * 1024;\n",
              "\n",
              "function _uploadFiles(inputId, outputId) {\n",
              "  const steps = uploadFilesStep(inputId, outputId);\n",
              "  const outputElement = document.getElementById(outputId);\n",
              "  // Cache steps on the outputElement to make it available for the next call\n",
              "  // to uploadFilesContinue from Python.\n",
              "  outputElement.steps = steps;\n",
              "\n",
              "  return _uploadFilesContinue(outputId);\n",
              "}\n",
              "\n",
              "// This is roughly an async generator (not supported in the browser yet),\n",
              "// where there are multiple asynchronous steps and the Python side is going\n",
              "// to poll for completion of each step.\n",
              "// This uses a Promise to block the python side on completion of each step,\n",
              "// then passes the result of the previous step as the input to the next step.\n",
              "function _uploadFilesContinue(outputId) {\n",
              "  const outputElement = document.getElementById(outputId);\n",
              "  const steps = outputElement.steps;\n",
              "\n",
              "  const next = steps.next(outputElement.lastPromiseValue);\n",
              "  return Promise.resolve(next.value.promise).then((value) => {\n",
              "    // Cache the last promise value to make it available to the next\n",
              "    // step of the generator.\n",
              "    outputElement.lastPromiseValue = value;\n",
              "    return next.value.response;\n",
              "  });\n",
              "}\n",
              "\n",
              "/**\n",
              " * Generator function which is called between each async step of the upload\n",
              " * process.\n",
              " * @param {string} inputId Element ID of the input file picker element.\n",
              " * @param {string} outputId Element ID of the output display.\n",
              " * @return {!Iterable<!Object>} Iterable of next steps.\n",
              " */\n",
              "function* uploadFilesStep(inputId, outputId) {\n",
              "  const inputElement = document.getElementById(inputId);\n",
              "  inputElement.disabled = false;\n",
              "\n",
              "  const outputElement = document.getElementById(outputId);\n",
              "  outputElement.innerHTML = '';\n",
              "\n",
              "  const pickedPromise = new Promise((resolve) => {\n",
              "    inputElement.addEventListener('change', (e) => {\n",
              "      resolve(e.target.files);\n",
              "    });\n",
              "  });\n",
              "\n",
              "  const cancel = document.createElement('button');\n",
              "  inputElement.parentElement.appendChild(cancel);\n",
              "  cancel.textContent = 'Cancel upload';\n",
              "  const cancelPromise = new Promise((resolve) => {\n",
              "    cancel.onclick = () => {\n",
              "      resolve(null);\n",
              "    };\n",
              "  });\n",
              "\n",
              "  // Wait for the user to pick the files.\n",
              "  const files = yield {\n",
              "    promise: Promise.race([pickedPromise, cancelPromise]),\n",
              "    response: {\n",
              "      action: 'starting',\n",
              "    }\n",
              "  };\n",
              "\n",
              "  cancel.remove();\n",
              "\n",
              "  // Disable the input element since further picks are not allowed.\n",
              "  inputElement.disabled = true;\n",
              "\n",
              "  if (!files) {\n",
              "    return {\n",
              "      response: {\n",
              "        action: 'complete',\n",
              "      }\n",
              "    };\n",
              "  }\n",
              "\n",
              "  for (const file of files) {\n",
              "    const li = document.createElement('li');\n",
              "    li.append(span(file.name, {fontWeight: 'bold'}));\n",
              "    li.append(span(\n",
              "        `(${file.type || 'n/a'}) - ${file.size} bytes, ` +\n",
              "        `last modified: ${\n",
              "            file.lastModifiedDate ? file.lastModifiedDate.toLocaleDateString() :\n",
              "                                    'n/a'} - `));\n",
              "    const percent = span('0% done');\n",
              "    li.appendChild(percent);\n",
              "\n",
              "    outputElement.appendChild(li);\n",
              "\n",
              "    const fileDataPromise = new Promise((resolve) => {\n",
              "      const reader = new FileReader();\n",
              "      reader.onload = (e) => {\n",
              "        resolve(e.target.result);\n",
              "      };\n",
              "      reader.readAsArrayBuffer(file);\n",
              "    });\n",
              "    // Wait for the data to be ready.\n",
              "    let fileData = yield {\n",
              "      promise: fileDataPromise,\n",
              "      response: {\n",
              "        action: 'continue',\n",
              "      }\n",
              "    };\n",
              "\n",
              "    // Use a chunked sending to avoid message size limits. See b/62115660.\n",
              "    let position = 0;\n",
              "    do {\n",
              "      const length = Math.min(fileData.byteLength - position, MAX_PAYLOAD_SIZE);\n",
              "      const chunk = new Uint8Array(fileData, position, length);\n",
              "      position += length;\n",
              "\n",
              "      const base64 = btoa(String.fromCharCode.apply(null, chunk));\n",
              "      yield {\n",
              "        response: {\n",
              "          action: 'append',\n",
              "          file: file.name,\n",
              "          data: base64,\n",
              "        },\n",
              "      };\n",
              "\n",
              "      let percentDone = fileData.byteLength === 0 ?\n",
              "          100 :\n",
              "          Math.round((position / fileData.byteLength) * 100);\n",
              "      percent.textContent = `${percentDone}% done`;\n",
              "\n",
              "    } while (position < fileData.byteLength);\n",
              "  }\n",
              "\n",
              "  // All done.\n",
              "  yield {\n",
              "    response: {\n",
              "      action: 'complete',\n",
              "    }\n",
              "  };\n",
              "}\n",
              "\n",
              "scope.google = scope.google || {};\n",
              "scope.google.colab = scope.google.colab || {};\n",
              "scope.google.colab._files = {\n",
              "  _uploadFiles,\n",
              "  _uploadFilesContinue,\n",
              "};\n",
              "})(self);\n",
              "</script> "
            ]
          },
          "metadata": {}
        },
        {
          "output_type": "stream",
          "name": "stdout",
          "text": [
            "Saving Get_Images.py to Get_Images (1).py\n"
          ]
        }
      ]
    },
    {
      "cell_type": "code",
      "source": [
        "# Importacion de funcion get_images desde archivo Get_Images.py\n",
        "from Get_Images import get_images"
      ],
      "metadata": {
        "id": "jmw_ZNruAhlF"
      },
      "execution_count": 53,
      "outputs": []
    },
    {
      "cell_type": "code",
      "source": [
        "mnist.path = '/content/drive/MyDrive/Deep Learning/mnist_raw'"
      ],
      "metadata": {
        "id": "p41aFpNVAuBT"
      },
      "execution_count": 54,
      "outputs": []
    },
    {
      "cell_type": "code",
      "source": [
        "print(mnist.path)"
      ],
      "metadata": {
        "colab": {
          "base_uri": "https://localhost:8080/"
        },
        "id": "awgPUfVgm5Dz",
        "outputId": "4630ae34-8f22-421a-b396-009cb8ec92dd"
      },
      "execution_count": 55,
      "outputs": [
        {
          "output_type": "stream",
          "name": "stdout",
          "text": [
            "/content/drive/MyDrive/Deep Learning/mnist_raw\n"
          ]
        }
      ]
    },
    {
      "cell_type": "code",
      "source": [
        "# Importa las variables desde el archivo Get_images.py\n",
        "from Get_Images import x_train, y_train, x_test, y_test\n",
        "\n",
        "# Crea las nuevas variables\n",
        "x_train_num = x_train\n",
        "y_train_num = y_train\n",
        "x_test_num = x_test\n",
        "y_test_num = y_test"
      ],
      "metadata": {
        "id": "tSY0cikczKdh"
      },
      "execution_count": 56,
      "outputs": []
    },
    {
      "cell_type": "code",
      "source": [
        "# Creacion de variables y resize de imagenes\n",
        "x_train = x_train_num[:50000].reshape(50000, -1).astype(np.float32)/255\n",
        "y_train = y_train_num[:50000].reshape(50000, 1)\n",
        "\n",
        "x_val = x_train_num[50000:].reshape(10000, -1).astype(np.float)/255\n",
        "y_val = y_train_num[50000:].reshape(10000, 1)\n",
        "\n",
        "x_test = x_test_num.copy().reshape(10000, -1).astype(np.float)/255\n",
        "y_test = y_test_num.copy().reshape(10000, 1)"
      ],
      "metadata": {
        "colab": {
          "base_uri": "https://localhost:8080/"
        },
        "id": "8KXqSqFVy1Ns",
        "outputId": "0fdb5d6c-d235-4c4d-b497-32f3e2f71bb7"
      },
      "execution_count": 57,
      "outputs": [
        {
          "output_type": "stream",
          "name": "stderr",
          "text": [
            "<ipython-input-57-80ed83926e7d>:5: DeprecationWarning: `np.float` is a deprecated alias for the builtin `float`. To silence this warning, use `float` by itself. Doing this will not modify any behavior and is safe. If you specifically wanted the numpy scalar type, use `np.float64` here.\n",
            "Deprecated in NumPy 1.20; for more details and guidance: https://numpy.org/devdocs/release/1.20.0-notes.html#deprecations\n",
            "  x_val = x_train_num[50000:].reshape(10000, -1).astype(np.float)/255\n",
            "<ipython-input-57-80ed83926e7d>:8: DeprecationWarning: `np.float` is a deprecated alias for the builtin `float`. To silence this warning, use `float` by itself. Doing this will not modify any behavior and is safe. If you specifically wanted the numpy scalar type, use `np.float64` here.\n",
            "Deprecated in NumPy 1.20; for more details and guidance: https://numpy.org/devdocs/release/1.20.0-notes.html#deprecations\n",
            "  x_test = x_test_num.copy().reshape(10000, -1).astype(np.float)/255\n"
          ]
        }
      ]
    },
    {
      "cell_type": "code",
      "source": [
        "print(x_train.shape)\n",
        "print(y_train.shape)\n",
        "\n",
        "print(x_val.shape)\n",
        "print(y_val.shape)\n",
        "\n",
        "print(x_test.shape)\n",
        "print(y_test.shape)"
      ],
      "metadata": {
        "colab": {
          "base_uri": "https://localhost:8080/"
        },
        "id": "yoFXdNV-a_8l",
        "outputId": "9336b863-c714-4f79-c74f-e3f49ed35d68"
      },
      "execution_count": 58,
      "outputs": [
        {
          "output_type": "stream",
          "name": "stdout",
          "text": [
            "(50000, 784)\n",
            "(50000, 1)\n",
            "(10000, 784)\n",
            "(10000, 1)\n",
            "(10000, 784)\n",
            "(10000, 1)\n"
          ]
        }
      ]
    },
    {
      "cell_type": "markdown",
      "source": [
        "##Graficar algunas imagenes"
      ],
      "metadata": {
        "id": "u6f2jv5k0AZc"
      }
    },
    {
      "cell_type": "code",
      "source": [
        "def plot_number(image):\n",
        "  plt.imshow(image.squeeze(), cmap=plt.get_cmap('gray'))\n",
        "  plt.axis('off')\n",
        "  plt.show()"
      ],
      "metadata": {
        "id": "-fmq5mvc0DZJ"
      },
      "execution_count": 59,
      "outputs": []
    },
    {
      "cell_type": "code",
      "source": [
        "                            ##Busqueda de nro random\n",
        "rnd_idx = np.random.randint(len(y_test))\n",
        "                            ##Comentario\n",
        "print(f'La imagen muestreada representa un: {y_test[rnd_idx]}')\n",
        "                            ##Importacion de imagen\n",
        "plot_number(x_test_num[rnd_idx])"
      ],
      "metadata": {
        "colab": {
          "base_uri": "https://localhost:8080/",
          "height": 424
        },
        "id": "h616TrrH60I9",
        "outputId": "c347d511-b6de-4d40-c82c-fe66cfd954d5"
      },
      "execution_count": 60,
      "outputs": [
        {
          "output_type": "stream",
          "name": "stdout",
          "text": [
            "La imagen muestreada representa un: [7]\n"
          ]
        },
        {
          "output_type": "display_data",
          "data": {
            "text/plain": [
              "<Figure size 640x480 with 1 Axes>"
            ],
            "image/png": "[encoded data removed]"
          },
          "metadata": {}
        }
      ]
    },
    {
      "cell_type": "markdown",
      "source": [],
      "metadata": {
        "id": "YwflJSaJkcVR"
      }
    },
    {
      "cell_type": "markdown",
      "source": [
        "##Red Neuronal"
      ],
      "metadata": {
        "id": "fsB3yQ9UkdSX"
      }
    },
    {
      "cell_type": "markdown",
      "source": [
        "##Dos capas 200-10"
      ],
      "metadata": {
        "id": "NhTe1TSklB94"
      }
    },
    {
      "cell_type": "markdown",
      "source": [
        "##Crear mini batches"
      ],
      "metadata": {
        "id": "ZNZGV_RplO-o"
      }
    },
    {
      "cell_type": "code",
      "source": [
        "x_train.shape[0]"
      ],
      "metadata": {
        "colab": {
          "base_uri": "https://localhost:8080/"
        },
        "id": "ueg8ET64nScY",
        "outputId": "be75b4b5-ae9a-4550-eac2-ac86955c1f79"
      },
      "execution_count": 61,
      "outputs": [
        {
          "output_type": "execute_result",
          "data": {
            "text/plain": [
              "50000"
            ]
          },
          "metadata": {},
          "execution_count": 61
        }
      ]
    },
    {
      "cell_type": "code",
      "source": [
        "                             ##Creacion de minibatches##\n",
        "\n",
        "def create_minibatches(mb_size, x, y, shuffle = True):\n",
        "\n",
        "    # x  #muestras, 784\n",
        "    # y #muestras, 1\n",
        "\n",
        "    assert x.shape[0] == y.shape[0], 'Error en cantidad de muestras'\n",
        "    total_data = x.shape[0]\n",
        "    if shuffle:\n",
        "        idxs = np.arange(total_data)\n",
        "        np.random.shuffle(idxs)\n",
        "        x = x[idxs]\n",
        "        y = y[idxs]\n",
        "\n",
        "    return ((x[i:i+mb_size], y[i:i+mb_size]) for i in range(0, total_data, mb_size))"
      ],
      "metadata": {
        "id": "ZSzTb89ZlNB_"
      },
      "execution_count": 62,
      "outputs": []
    },
    {
      "cell_type": "markdown",
      "source": [
        "##Init parameters"
      ],
      "metadata": {
        "id": "5vZEovDrnq_W"
      }
    },
    {
      "cell_type": "code",
      "source": [
        "def init_parameters(input_size, neurons):\n",
        "\n",
        "    # input_size -> elementos de entrada, 784\n",
        "    # neurons -> list [200, 10] con cantidad de neuronas en cada capa\n",
        "\n",
        "    W1 = np.random.randn(neurons[0], input_size) * 0.001\n",
        "    b1 = np.zeros((neurons[0], 1))\n",
        "\n",
        "    W2 = np.random.randn(neurons[1], neurons[0]) * 0.001\n",
        "    b2 = np.zeros((neurons[1], 1))\n",
        "\n",
        "    return {'W1': W1, 'b1':b1, 'W2':W2, 'b2':b2}\n"
      ],
      "metadata": {
        "id": "3E_UFU8Wndop"
      },
      "execution_count": 63,
      "outputs": []
    },
    {
      "cell_type": "code",
      "source": [
        "#Prueba de parametros\n",
        "parameters = init_parameters(28*28, [200, 10])\n",
        "print(parameters['W1'].shape)\n",
        "print(parameters['W2'].shape)\n",
        "print(parameters['b2'].shape)"
      ],
      "metadata": {
        "colab": {
          "base_uri": "https://localhost:8080/"
        },
        "id": "C4h7t90yqMGc",
        "outputId": "71c9a65f-9b9b-485d-8a8e-1e6d6e8104ec"
      },
      "execution_count": 64,
      "outputs": [
        {
          "output_type": "stream",
          "name": "stdout",
          "text": [
            "(200, 784)\n",
            "(10, 200)\n",
            "(10, 1)\n"
          ]
        }
      ]
    },
    {
      "cell_type": "code",
      "source": [
        "def relu(x):\n",
        "  return np.maximum(0, x)"
      ],
      "metadata": {
        "id": "INkPIKarqhZX"
      },
      "execution_count": 65,
      "outputs": []
    },
    {
      "cell_type": "code",
      "source": [
        "def linear_pass(x, parameters, activation_fcn):\n",
        "\n",
        "    #¤ x tiene la forma (#pixeles, num samples)\n",
        "\n",
        "    z1 = parameters['W1'] @ x + parameters['b1']\n",
        "    a1 = activation_fcn(z1) # devuel fcn. de activa.\n",
        "    z2 = parameters['W2'] @ a1 + parameters['b2']\n",
        "\n",
        "    return z2, z1, a1"
      ],
      "metadata": {
        "id": "ljyaJFXtsC5G"
      },
      "execution_count": 66,
      "outputs": []
    },
    {
      "cell_type": "code",
      "source": [
        "scores,z1, a1 = linear_pass(x_train[:64].T, parameters, relu)"
      ],
      "metadata": {
        "id": "r17oKCdkr2k7"
      },
      "execution_count": 67,
      "outputs": []
    },
    {
      "cell_type": "code",
      "source": [
        "x_train[:64].shape"
      ],
      "metadata": {
        "id": "kQMi4Lgtr5AR",
        "colab": {
          "base_uri": "https://localhost:8080/"
        },
        "outputId": "cce91a06-9b13-405b-ab69-6f326b953898"
      },
      "execution_count": 68,
      "outputs": [
        {
          "output_type": "execute_result",
          "data": {
            "text/plain": [
              "(64, 784)"
            ]
          },
          "metadata": {},
          "execution_count": 68
        }
      ]
    },
    {
      "cell_type": "code",
      "source": [
        "def softmax(x):\n",
        "    exp_scores = np.exp(x)\n",
        "    sum_exp_scores = np.sum(exp_scores, axis=0)\n",
        "    probs = exp_scores/sum_exp_scores\n",
        "    return probs"
      ],
      "metadata": {
        "id": "Xg24Pcp7CL3n"
      },
      "execution_count": 70,
      "outputs": []
    },
    {
      "cell_type": "code",
      "source": [
        "def x_entropy(linear_pass, y, batch_size=64):\n",
        "    probs = softmax(linear_pass)\n",
        "    y_hat = probs[y.squeeze(), np.arange(batch_size)]\n",
        "    cost = np.sum(-np.log(y_hat)) / batch_size\n",
        "\n",
        "    return probs, cost"
      ],
      "metadata": {
        "id": "JIm9_y7wDCbh"
      },
      "execution_count": 71,
      "outputs": []
    },
    {
      "cell_type": "code",
      "source": [
        "def backward(probs, x, y, z1, a1, linear_pass, parameters, batch_size=64):\n",
        "    grads = {}\n",
        "    probs[y.squeeze(), np.arange(batch_size)] -= 1 # y-hat - y\n",
        "    dz2 = probs.copy()\n",
        "\n",
        "    dW2 = dz2 @ a1.T / batch_size\n",
        "    db2 = np.sum(dz2, axis =1, keepdims=True) / batch_size\n",
        "    da1 = parameters['W2'].T @ dz2\n",
        "\n",
        "    dz1 = da1.copy()\n",
        "    dz1[z1 <= 0 ] =0\n",
        "\n",
        "    dW1 = dz1 @ x\n",
        "    db1 = np.sum(dz1, axis=1, keepdims=True)\n",
        "\n",
        "    assert parameters['W1'].shape == dW1.shape, 'W1 no igual forma'\n",
        "    assert parameters['W2'].shape == dW2.shape, 'W2 no igual forma'\n",
        "    assert parameters['b1'].shape == db1.shape, 'b1 no igual forma'\n",
        "    assert parameters['b2'].shape == db2.shape, 'b2 no igual forma'\n",
        "\n",
        "    grads = {'w1':dW1,  'b1':db1, 'W2':dW2, 'b2':db2}\n",
        "\n",
        "    return grads"
      ],
      "metadata": {
        "id": "GFjrOG2NEBBU"
      },
      "execution_count": 72,
      "outputs": []
    },
    {
      "cell_type": "code",
      "source": [
        "y_hat, cost = x_entropy(scores, y_train[:64])"
      ],
      "metadata": {
        "id": "p7kk2vFqHlqS"
      },
      "execution_count": 74,
      "outputs": []
    },
    {
      "cell_type": "code",
      "source": [
        "y_hat.shape"
      ],
      "metadata": {
        "colab": {
          "base_uri": "https://localhost:8080/"
        },
        "id": "Kn8kplP6JUZY",
        "outputId": "21d7edb4-a72e-4733-c84b-f888c3fc8036"
      },
      "execution_count": 75,
      "outputs": [
        {
          "output_type": "execute_result",
          "data": {
            "text/plain": [
              "(10, 64)"
            ]
          },
          "metadata": {},
          "execution_count": 75
        }
      ]
    },
    {
      "cell_type": "code",
      "source": [
        "print(cost)"
      ],
      "metadata": {
        "colab": {
          "base_uri": "https://localhost:8080/"
        },
        "id": "8TBXJuFPIF7-",
        "outputId": "ca113fb7-51fb-4875-d6d1-f8b42003eac6"
      },
      "execution_count": 76,
      "outputs": [
        {
          "output_type": "stream",
          "name": "stdout",
          "text": [
            "2.3025718554196413\n"
          ]
        }
      ]
    },
    {
      "cell_type": "code",
      "source": [
        "grads = backward(y_hat, x_train[:64], y_train[:64],z1, a1, linear_pass, parameters)"
      ],
      "metadata": {
        "id": "Yfi3yPP0JYY9"
      },
      "execution_count": 77,
      "outputs": []
    },
    {
      "cell_type": "code",
      "source": [
        "def accuracy(x_data, y_data, mb_size=64):\n",
        "    correct = 0\n",
        "    total = 0\n",
        "    for i, (x, y) in enumerate(create_minibatches(mb_size, x_data, y_data)):\n",
        "        scores2, z1, a1 = linear_pass(x.T, parameters, relu)\n",
        "        y_hat, cost = x_entropy(scores2, y, batch_size=len(x))\n",
        "\n",
        "        correct += np.sum(np.argmax(y_hat, axis=0) == y.squeeze())\n",
        "        total += y_hat.shape[1]\n",
        "    return correct/total"
      ],
      "metadata": {
        "id": "bw6DjSQ5PHET"
      },
      "execution_count": 78,
      "outputs": []
    },
    {
      "cell_type": "code",
      "source": [
        "def train(epochs, parameters, mb_size=64, learning_rate = 1e-3):\n",
        "    for epoch in range(epochs):\n",
        "        for i, (x, y) in enumerate(create_minibatches(mb_size, x_train, y_train)):\n",
        "            scores2, z1, a1 = linear_pass(x.T, parameters=parameters, activation_fcn=relu)\n",
        "            y_hat, cost = x_entropy(scores2, y, batch_size=len(x))\n",
        "            grads = backward(y_hat, x, y, z1, a1, scores2, parameters, batch_size=len(x))\n",
        "\n",
        "            parameters['W1'] = parameters['W1'] - learning_rate*grads['w1']\n",
        "            parameters['b1'] = parameters['b1'] - learning_rate*grads['b1']\n",
        "            parameters['b2'] = parameters['b2'] - learning_rate*grads['b2']\n",
        "            parameters['W2'] = parameters['W2'] - learning_rate*grads['W2']\n",
        "\n",
        "        print(f'costo es: {cost}, y accuracy: {accuracy(x_val, y_val, mb_size)}')\n",
        "    return parameters"
      ],
      "metadata": {
        "id": "tYvKXIb-PLmH"
      },
      "execution_count": 79,
      "outputs": []
    },
    {
      "cell_type": "code",
      "source": [
        "print(type(linear_pass))"
      ],
      "metadata": {
        "colab": {
          "base_uri": "https://localhost:8080/"
        },
        "id": "yVYO2ne4bX9l",
        "outputId": "d9e4cb95-b703-4f8a-dbb6-a53183f6b99c"
      },
      "execution_count": 80,
      "outputs": [
        {
          "output_type": "stream",
          "name": "stdout",
          "text": [
            "<class 'function'>\n"
          ]
        }
      ]
    },
    {
      "cell_type": "code",
      "source": [
        "mb_size = 512\n",
        "learning_rate = 1e-2\n",
        "epochs = 20\n",
        "parameters = train(epochs=epochs, parameters=parameters, mb_size=mb_size, learning_rate=learning_rate)"
      ],
      "metadata": {
        "colab": {
          "base_uri": "https://localhost:8080/"
        },
        "id": "DSbGwnT4PNcR",
        "outputId": "d4c19280-b4aa-464c-9c1c-e7c2bb85683f"
      },
      "execution_count": 81,
      "outputs": [
        {
          "output_type": "stream",
          "name": "stdout",
          "text": [
            "costo es: 0.6264659317213112, y accuracy: 0.8725\n",
            "costo es: 0.4100881812106192, y accuracy: 0.9039\n",
            "costo es: 0.3128731206926634, y accuracy: 0.9152\n",
            "costo es: 0.2392327105232597, y accuracy: 0.9236\n",
            "costo es: 0.291418903189613, y accuracy: 0.9285\n",
            "costo es: 0.26123622825059617, y accuracy: 0.9345\n",
            "costo es: 0.24224892404196718, y accuracy: 0.9395\n",
            "costo es: 0.21384533598485342, y accuracy: 0.9464\n",
            "costo es: 0.19754173187630802, y accuracy: 0.9483\n",
            "costo es: 0.1782179101415537, y accuracy: 0.953\n",
            "costo es: 0.16146636147582355, y accuracy: 0.9547\n",
            "costo es: 0.15456821363984627, y accuracy: 0.9548\n",
            "costo es: 0.11816770432953107, y accuracy: 0.9594\n",
            "costo es: 0.1506575316537789, y accuracy: 0.9595\n",
            "costo es: 0.1816081326545783, y accuracy: 0.9596\n",
            "costo es: 0.14887122111759396, y accuracy: 0.9632\n",
            "costo es: 0.08348115508163276, y accuracy: 0.9635\n",
            "costo es: 0.07647159614603279, y accuracy: 0.9654\n",
            "costo es: 0.1272776933338895, y accuracy: 0.9656\n",
            "costo es: 0.10231045502441657, y accuracy: 0.967\n"
          ]
        }
      ]
    },
    {
      "cell_type": "code",
      "source": [
        "accuracy(x_train, y_train, mb_size)"
      ],
      "metadata": {
        "id": "KOv6UdwhPPp4",
        "colab": {
          "base_uri": "https://localhost:8080/"
        },
        "outputId": "dadb4660-1416-4a96-915f-1ebf03b373b7"
      },
      "execution_count": 82,
      "outputs": [
        {
          "output_type": "execute_result",
          "data": {
            "text/plain": [
              "0.97068"
            ]
          },
          "metadata": {},
          "execution_count": 82
        }
      ]
    },
    {
      "cell_type": "code",
      "source": [
        "accuracy(x_test, y_test, mb_size)"
      ],
      "metadata": {
        "id": "x2QcGF-0PXoa",
        "colab": {
          "base_uri": "https://localhost:8080/"
        },
        "outputId": "9765ca86-f374-4e34-f396-ee172cb79547"
      },
      "execution_count": 83,
      "outputs": [
        {
          "output_type": "execute_result",
          "data": {
            "text/plain": [
              "0.9647"
            ]
          },
          "metadata": {},
          "execution_count": 83
        }
      ]
    },
    {
      "cell_type": "code",
      "source": [
        "def predict(x):\n",
        "    scores2, _, _ = linear_pass(x, parameters, relu)\n",
        "    return np.argmax(scores2)"
      ],
      "metadata": {
        "id": "SPOKL8E-PZzt"
      },
      "execution_count": 84,
      "outputs": []
    },
    {
      "cell_type": "code",
      "source": [
        "x_test[0].reshape(-1, 1).shape"
      ],
      "metadata": {
        "id": "cn8fitI9PboE",
        "colab": {
          "base_uri": "https://localhost:8080/"
        },
        "outputId": "32339e83-442b-46f0-9039-e974999992c8"
      },
      "execution_count": 85,
      "outputs": [
        {
          "output_type": "execute_result",
          "data": {
            "text/plain": [
              "(784, 1)"
            ]
          },
          "metadata": {},
          "execution_count": 85
        }
      ]
    },
    {
      "cell_type": "code",
      "source": [
        "idx = np.random.randint(len(y_test))\n",
        "plot_number(x_test_num[idx])\n",
        "pred = predict(x_test[idx].reshape(-1, 1))\n",
        "print(f'el valor predicho es: {pred}')"
      ],
      "metadata": {
        "id": "HBnwl88sPdSl",
        "colab": {
          "base_uri": "https://localhost:8080/",
          "height": 424
        },
        "outputId": "1894c148-87c1-45a6-9336-f854f790a511"
      },
      "execution_count": 86,
      "outputs": [
        {
          "output_type": "display_data",
          "data": {
            "text/plain": [
              "<Figure size 640x480 with 1 Axes>"
            ],
            "image/png": "[encoded data removed]"
          },
          "metadata": {}
        },
        {
          "output_type": "stream",
          "name": "stdout",
          "text": [
            "el valor predicho es: 2\n"
          ]
        }
      ]
    },
    {
      "cell_type": "code",
      "source": [],
      "metadata": {
        "id": "ve2NvaMrPfH4"
      },
      "execution_count": null,
      "outputs": []
    }
  ]
}